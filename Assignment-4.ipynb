{
 "cells": [
  {
   "cell_type": "code",
   "execution_count": 1,
   "metadata": {},
   "outputs": [],
   "source": [
    "#Question-4\n",
    "#Write a Python function which takes a character (i.e. a string of length 1) and returns True if it is a vowel, False otherwise."
   ]
  },
  {
   "cell_type": "code",
   "execution_count": 2,
   "metadata": {},
   "outputs": [],
   "source": [
    "def check_vowel(char):\n",
    "    if char in ['a','e','i','o','u'] or char in ['A','E','I','O','U']:\n",
    "        return True\n",
    "    else:\n",
    "        return False\n",
    "\n",
    "    "
   ]
  },
  {
   "cell_type": "code",
   "execution_count": 3,
   "metadata": {},
   "outputs": [
    {
     "name": "stdout",
     "output_type": "stream",
     "text": [
      "Enter character to check if vowel: e\n"
     ]
    },
    {
     "data": {
      "text/plain": [
       "True"
      ]
     },
     "execution_count": 3,
     "metadata": {},
     "output_type": "execute_result"
    }
   ],
   "source": [
    "char=input('Enter character to check if vowel: ')\n",
    "check_vowel(char)"
   ]
  },
  {
   "cell_type": "code",
   "execution_count": 4,
   "metadata": {},
   "outputs": [],
   "source": [
    "#Question-2\n",
    "#Write a function filter_long_words() that takes a list of words and an integer n and returns the list of words that are longer \n",
    "#than n."
   ]
  },
  {
   "cell_type": "code",
   "execution_count": 5,
   "metadata": {},
   "outputs": [],
   "source": [
    "def filter_long_words(lst,n):\n",
    "    output=[]\n",
    "    for i in lst:\n",
    "        if len(i) > n:\n",
    "            output.append(i)\n",
    "    return output\n",
    "    \n",
    "        "
   ]
  },
  {
   "cell_type": "code",
   "execution_count": 6,
   "metadata": {},
   "outputs": [
    {
     "data": {
      "text/plain": [
       "['orange', 'pineapple']"
      ]
     },
     "execution_count": 6,
     "metadata": {},
     "output_type": "execute_result"
    }
   ],
   "source": [
    "lst=['peach','apple','orange','pineapple']\n",
    "n=5\n",
    "filter_long_words(lst,n)"
   ]
  },
  {
   "cell_type": "code",
   "execution_count": 7,
   "metadata": {},
   "outputs": [],
   "source": [
    "#Question-3\n",
    "#Write a Python program using function concept that maps list of words into a list of integers\n",
    "#representing the lengths of the corresponding words."
   ]
  },
  {
   "cell_type": "code",
   "execution_count": 27,
   "metadata": {},
   "outputs": [],
   "source": [
    "def map_words(lst):\n",
    "    output=[]\n",
    "    for i in lst:\n",
    "        output.append(len(i))\n",
    "        \n",
    "    return output\n",
    "    \n",
    "        \n",
    "        "
   ]
  },
  {
   "cell_type": "code",
   "execution_count": 28,
   "metadata": {},
   "outputs": [
    {
     "data": {
      "text/plain": [
       "[2, 3, 4]"
      ]
     },
     "execution_count": 28,
     "metadata": {},
     "output_type": "execute_result"
    }
   ],
   "source": [
    "map_words(['ab','efg','hijk'])"
   ]
  },
  {
   "cell_type": "code",
   "execution_count": 10,
   "metadata": {},
   "outputs": [],
   "source": [
    "#Question-1\n",
    "#Write a Python Program(with class concepts) to find the area of the triangle"
   ]
  },
  {
   "cell_type": "code",
   "execution_count": 26,
   "metadata": {},
   "outputs": [
    {
     "name": "stdout",
     "output_type": "stream",
     "text": [
      "a=2\n",
      "b=2\n",
      "c=2\n",
      "area :  1.7320508075688772\n"
     ]
    }
   ],
   "source": [
    "class Lengths:\n",
    "    def __init__(self):\n",
    "        self.a=float(input(\"a=\"))\n",
    "        self.b=float(input(\"b=\"))\n",
    "        self.c=float(input(\"c=\"))\n",
    "        \n",
    "    #a= float(input(\"a=\"))\n",
    "    #b= float(input(\"b=\"))\n",
    "    #c= float(input(\"c=\"))\n",
    "    \n",
    "class Area(Lengths):\n",
    "     #def __init__(self):\n",
    "            #super().__init__()\n",
    "    \n",
    "    \n",
    "     def calculate_area(self):\n",
    "        s = (self.a + self.b + self.c) / 2\n",
    "        return (s*(s-self.a)*(s-self.b)*(s-self.c)) ** 0.5  \n",
    "        \n",
    "\n",
    "    \n",
    "d=Area()\n",
    "print(\"area : \",d.calculate_area())\n",
    "\n",
    "\n",
    "\n",
    "    "
   ]
  },
  {
   "cell_type": "markdown",
   "metadata": {},
   "source": []
  },
  {
   "cell_type": "code",
   "execution_count": null,
   "metadata": {},
   "outputs": [],
   "source": []
  }
 ],
 "metadata": {
  "kernelspec": {
   "display_name": "Python 3",
   "language": "python",
   "name": "python3"
  },
  "language_info": {
   "codemirror_mode": {
    "name": "ipython",
    "version": 3
   },
   "file_extension": ".py",
   "mimetype": "text/x-python",
   "name": "python",
   "nbconvert_exporter": "python",
   "pygments_lexer": "ipython3",
   "version": "3.7.0"
  }
 },
 "nbformat": 4,
 "nbformat_minor": 2
}
